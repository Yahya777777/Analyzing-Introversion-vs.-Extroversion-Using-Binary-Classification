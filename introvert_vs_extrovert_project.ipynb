{
 "cells": [
  {
   "cell_type": "code",
   "execution_count": 1,
   "id": "e2565b25-60fe-4d3c-925b-ba1cc577a0f5",
   "metadata": {},
   "outputs": [],
   "source": [
    "import pandas as pd\n",
    "import numpy as np\n",
    "from sklearn.model_selection import train_test_split\n",
    "from sklearn.preprocessing import StandardScaler\n",
    "from sklearn.discriminant_analysis import LinearDiscriminantAnalysis\n",
    "from sklearn.neighbors import KNeighborsClassifier\n",
    "from sklearn.linear_model import LogisticRegression\n",
    "from sklearn.svm import SVC\n",
    "from sklearn.metrics import (confusion_matrix, accuracy_score, precision_recall_fscore_support, roc_auc_score)"
   ]
  },
  {
   "cell_type": "code",
   "execution_count": 2,
   "id": "8857836a-0315-4154-b421-927ddee326ee",
   "metadata": {},
   "outputs": [
    {
     "data": {
      "text/html": [
       "<div>\n",
       "<style scoped>\n",
       "    .dataframe tbody tr th:only-of-type {\n",
       "        vertical-align: middle;\n",
       "    }\n",
       "\n",
       "    .dataframe tbody tr th {\n",
       "        vertical-align: top;\n",
       "    }\n",
       "\n",
       "    .dataframe thead th {\n",
       "        text-align: right;\n",
       "    }\n",
       "</style>\n",
       "<table border=\"1\" class=\"dataframe\">\n",
       "  <thead>\n",
       "    <tr style=\"text-align: right;\">\n",
       "      <th></th>\n",
       "      <th>Time_spent_Alone</th>\n",
       "      <th>Stage_fear</th>\n",
       "      <th>Social_event_attendance</th>\n",
       "      <th>Going_outside</th>\n",
       "      <th>Drained_after_socializing</th>\n",
       "      <th>Friends_circle_size</th>\n",
       "      <th>Post_frequency</th>\n",
       "      <th>Personality</th>\n",
       "    </tr>\n",
       "  </thead>\n",
       "  <tbody>\n",
       "    <tr>\n",
       "      <th>0</th>\n",
       "      <td>4.0</td>\n",
       "      <td>No</td>\n",
       "      <td>4.0</td>\n",
       "      <td>6.0</td>\n",
       "      <td>No</td>\n",
       "      <td>13.0</td>\n",
       "      <td>5.0</td>\n",
       "      <td>Extrovert</td>\n",
       "    </tr>\n",
       "    <tr>\n",
       "      <th>1</th>\n",
       "      <td>9.0</td>\n",
       "      <td>Yes</td>\n",
       "      <td>0.0</td>\n",
       "      <td>0.0</td>\n",
       "      <td>Yes</td>\n",
       "      <td>0.0</td>\n",
       "      <td>3.0</td>\n",
       "      <td>Introvert</td>\n",
       "    </tr>\n",
       "    <tr>\n",
       "      <th>2</th>\n",
       "      <td>9.0</td>\n",
       "      <td>Yes</td>\n",
       "      <td>1.0</td>\n",
       "      <td>2.0</td>\n",
       "      <td>Yes</td>\n",
       "      <td>5.0</td>\n",
       "      <td>2.0</td>\n",
       "      <td>Introvert</td>\n",
       "    </tr>\n",
       "    <tr>\n",
       "      <th>3</th>\n",
       "      <td>0.0</td>\n",
       "      <td>No</td>\n",
       "      <td>6.0</td>\n",
       "      <td>7.0</td>\n",
       "      <td>No</td>\n",
       "      <td>14.0</td>\n",
       "      <td>8.0</td>\n",
       "      <td>Extrovert</td>\n",
       "    </tr>\n",
       "    <tr>\n",
       "      <th>4</th>\n",
       "      <td>3.0</td>\n",
       "      <td>No</td>\n",
       "      <td>9.0</td>\n",
       "      <td>4.0</td>\n",
       "      <td>No</td>\n",
       "      <td>8.0</td>\n",
       "      <td>5.0</td>\n",
       "      <td>Extrovert</td>\n",
       "    </tr>\n",
       "    <tr>\n",
       "      <th>...</th>\n",
       "      <td>...</td>\n",
       "      <td>...</td>\n",
       "      <td>...</td>\n",
       "      <td>...</td>\n",
       "      <td>...</td>\n",
       "      <td>...</td>\n",
       "      <td>...</td>\n",
       "      <td>...</td>\n",
       "    </tr>\n",
       "    <tr>\n",
       "      <th>2895</th>\n",
       "      <td>3.0</td>\n",
       "      <td>No</td>\n",
       "      <td>7.0</td>\n",
       "      <td>6.0</td>\n",
       "      <td>No</td>\n",
       "      <td>6.0</td>\n",
       "      <td>6.0</td>\n",
       "      <td>Extrovert</td>\n",
       "    </tr>\n",
       "    <tr>\n",
       "      <th>2896</th>\n",
       "      <td>3.0</td>\n",
       "      <td>No</td>\n",
       "      <td>8.0</td>\n",
       "      <td>3.0</td>\n",
       "      <td>No</td>\n",
       "      <td>14.0</td>\n",
       "      <td>9.0</td>\n",
       "      <td>Extrovert</td>\n",
       "    </tr>\n",
       "    <tr>\n",
       "      <th>2897</th>\n",
       "      <td>4.0</td>\n",
       "      <td>Yes</td>\n",
       "      <td>1.0</td>\n",
       "      <td>1.0</td>\n",
       "      <td>Yes</td>\n",
       "      <td>4.0</td>\n",
       "      <td>0.0</td>\n",
       "      <td>Introvert</td>\n",
       "    </tr>\n",
       "    <tr>\n",
       "      <th>2898</th>\n",
       "      <td>11.0</td>\n",
       "      <td>Yes</td>\n",
       "      <td>1.0</td>\n",
       "      <td>NaN</td>\n",
       "      <td>Yes</td>\n",
       "      <td>2.0</td>\n",
       "      <td>0.0</td>\n",
       "      <td>Introvert</td>\n",
       "    </tr>\n",
       "    <tr>\n",
       "      <th>2899</th>\n",
       "      <td>3.0</td>\n",
       "      <td>No</td>\n",
       "      <td>6.0</td>\n",
       "      <td>6.0</td>\n",
       "      <td>No</td>\n",
       "      <td>6.0</td>\n",
       "      <td>9.0</td>\n",
       "      <td>Extrovert</td>\n",
       "    </tr>\n",
       "  </tbody>\n",
       "</table>\n",
       "<p>2900 rows × 8 columns</p>\n",
       "</div>"
      ],
      "text/plain": [
       "      Time_spent_Alone Stage_fear  Social_event_attendance  Going_outside  \\\n",
       "0                  4.0         No                      4.0            6.0   \n",
       "1                  9.0        Yes                      0.0            0.0   \n",
       "2                  9.0        Yes                      1.0            2.0   \n",
       "3                  0.0         No                      6.0            7.0   \n",
       "4                  3.0         No                      9.0            4.0   \n",
       "...                ...        ...                      ...            ...   \n",
       "2895               3.0         No                      7.0            6.0   \n",
       "2896               3.0         No                      8.0            3.0   \n",
       "2897               4.0        Yes                      1.0            1.0   \n",
       "2898              11.0        Yes                      1.0            NaN   \n",
       "2899               3.0         No                      6.0            6.0   \n",
       "\n",
       "     Drained_after_socializing  Friends_circle_size  Post_frequency  \\\n",
       "0                           No                 13.0             5.0   \n",
       "1                          Yes                  0.0             3.0   \n",
       "2                          Yes                  5.0             2.0   \n",
       "3                           No                 14.0             8.0   \n",
       "4                           No                  8.0             5.0   \n",
       "...                        ...                  ...             ...   \n",
       "2895                        No                  6.0             6.0   \n",
       "2896                        No                 14.0             9.0   \n",
       "2897                       Yes                  4.0             0.0   \n",
       "2898                       Yes                  2.0             0.0   \n",
       "2899                        No                  6.0             9.0   \n",
       "\n",
       "     Personality  \n",
       "0      Extrovert  \n",
       "1      Introvert  \n",
       "2      Introvert  \n",
       "3      Extrovert  \n",
       "4      Extrovert  \n",
       "...          ...  \n",
       "2895   Extrovert  \n",
       "2896   Extrovert  \n",
       "2897   Introvert  \n",
       "2898   Introvert  \n",
       "2899   Extrovert  \n",
       "\n",
       "[2900 rows x 8 columns]"
      ]
     },
     "execution_count": 2,
     "metadata": {},
     "output_type": "execute_result"
    }
   ],
   "source": [
    "df = pd.read_csv('personality_dataset.csv')\n",
    "df"
   ]
  },
  {
   "cell_type": "markdown",
   "id": "453425d6-eccd-43e2-91c5-25c703ed333c",
   "metadata": {},
   "source": [
    "# Cleaning data"
   ]
  },
  {
   "cell_type": "code",
   "execution_count": 4,
   "id": "1135119a-9602-467d-bc43-7eaa17ab1905",
   "metadata": {},
   "outputs": [
    {
     "name": "stdout",
     "output_type": "stream",
     "text": [
      "Personality\n",
      "Extrovert    1491\n",
      "Introvert    1409\n",
      "Name: count, dtype: int64\n"
     ]
    }
   ],
   "source": [
    "print(df['Personality'].value_counts())"
   ]
  },
  {
   "cell_type": "code",
   "execution_count": 5,
   "id": "a7957913-3453-4f6e-ac05-3460b00dfc30",
   "metadata": {},
   "outputs": [
    {
     "name": "stdout",
     "output_type": "stream",
     "text": [
      "Time_spent_Alone             63\n",
      "Stage_fear                   73\n",
      "Social_event_attendance      62\n",
      "Going_outside                66\n",
      "Drained_after_socializing    52\n",
      "Friends_circle_size          77\n",
      "Post_frequency               65\n",
      "Personality                   0\n",
      "dtype: int64\n"
     ]
    }
   ],
   "source": [
    "# counting missing data in each column\n",
    "print(df.isna().sum())"
   ]
  },
  {
   "cell_type": "code",
   "execution_count": 6,
   "id": "bfe0dffd-dc33-4ab8-acae-26d6e77a15a2",
   "metadata": {},
   "outputs": [
    {
     "data": {
      "text/html": [
       "<div>\n",
       "<style scoped>\n",
       "    .dataframe tbody tr th:only-of-type {\n",
       "        vertical-align: middle;\n",
       "    }\n",
       "\n",
       "    .dataframe tbody tr th {\n",
       "        vertical-align: top;\n",
       "    }\n",
       "\n",
       "    .dataframe thead th {\n",
       "        text-align: right;\n",
       "    }\n",
       "</style>\n",
       "<table border=\"1\" class=\"dataframe\">\n",
       "  <thead>\n",
       "    <tr style=\"text-align: right;\">\n",
       "      <th></th>\n",
       "      <th>Time_spent_Alone</th>\n",
       "      <th>Stage_fear</th>\n",
       "      <th>Social_event_attendance</th>\n",
       "      <th>Going_outside</th>\n",
       "      <th>Drained_after_socializing</th>\n",
       "      <th>Friends_circle_size</th>\n",
       "      <th>Post_frequency</th>\n",
       "      <th>Personality</th>\n",
       "    </tr>\n",
       "  </thead>\n",
       "  <tbody>\n",
       "    <tr>\n",
       "      <th>0</th>\n",
       "      <td>4.0</td>\n",
       "      <td>0.0</td>\n",
       "      <td>4.0</td>\n",
       "      <td>6.0</td>\n",
       "      <td>0.0</td>\n",
       "      <td>13.0</td>\n",
       "      <td>5.0</td>\n",
       "      <td>0</td>\n",
       "    </tr>\n",
       "    <tr>\n",
       "      <th>1</th>\n",
       "      <td>9.0</td>\n",
       "      <td>1.0</td>\n",
       "      <td>0.0</td>\n",
       "      <td>0.0</td>\n",
       "      <td>1.0</td>\n",
       "      <td>0.0</td>\n",
       "      <td>3.0</td>\n",
       "      <td>1</td>\n",
       "    </tr>\n",
       "    <tr>\n",
       "      <th>2</th>\n",
       "      <td>9.0</td>\n",
       "      <td>1.0</td>\n",
       "      <td>1.0</td>\n",
       "      <td>2.0</td>\n",
       "      <td>1.0</td>\n",
       "      <td>5.0</td>\n",
       "      <td>2.0</td>\n",
       "      <td>1</td>\n",
       "    </tr>\n",
       "    <tr>\n",
       "      <th>3</th>\n",
       "      <td>0.0</td>\n",
       "      <td>0.0</td>\n",
       "      <td>6.0</td>\n",
       "      <td>7.0</td>\n",
       "      <td>0.0</td>\n",
       "      <td>14.0</td>\n",
       "      <td>8.0</td>\n",
       "      <td>0</td>\n",
       "    </tr>\n",
       "    <tr>\n",
       "      <th>4</th>\n",
       "      <td>3.0</td>\n",
       "      <td>0.0</td>\n",
       "      <td>9.0</td>\n",
       "      <td>4.0</td>\n",
       "      <td>0.0</td>\n",
       "      <td>8.0</td>\n",
       "      <td>5.0</td>\n",
       "      <td>0</td>\n",
       "    </tr>\n",
       "    <tr>\n",
       "      <th>...</th>\n",
       "      <td>...</td>\n",
       "      <td>...</td>\n",
       "      <td>...</td>\n",
       "      <td>...</td>\n",
       "      <td>...</td>\n",
       "      <td>...</td>\n",
       "      <td>...</td>\n",
       "      <td>...</td>\n",
       "    </tr>\n",
       "    <tr>\n",
       "      <th>2895</th>\n",
       "      <td>3.0</td>\n",
       "      <td>0.0</td>\n",
       "      <td>7.0</td>\n",
       "      <td>6.0</td>\n",
       "      <td>0.0</td>\n",
       "      <td>6.0</td>\n",
       "      <td>6.0</td>\n",
       "      <td>0</td>\n",
       "    </tr>\n",
       "    <tr>\n",
       "      <th>2896</th>\n",
       "      <td>3.0</td>\n",
       "      <td>0.0</td>\n",
       "      <td>8.0</td>\n",
       "      <td>3.0</td>\n",
       "      <td>0.0</td>\n",
       "      <td>14.0</td>\n",
       "      <td>9.0</td>\n",
       "      <td>0</td>\n",
       "    </tr>\n",
       "    <tr>\n",
       "      <th>2897</th>\n",
       "      <td>4.0</td>\n",
       "      <td>1.0</td>\n",
       "      <td>1.0</td>\n",
       "      <td>1.0</td>\n",
       "      <td>1.0</td>\n",
       "      <td>4.0</td>\n",
       "      <td>0.0</td>\n",
       "      <td>1</td>\n",
       "    </tr>\n",
       "    <tr>\n",
       "      <th>2898</th>\n",
       "      <td>11.0</td>\n",
       "      <td>1.0</td>\n",
       "      <td>1.0</td>\n",
       "      <td>3.0</td>\n",
       "      <td>1.0</td>\n",
       "      <td>2.0</td>\n",
       "      <td>0.0</td>\n",
       "      <td>1</td>\n",
       "    </tr>\n",
       "    <tr>\n",
       "      <th>2899</th>\n",
       "      <td>3.0</td>\n",
       "      <td>0.0</td>\n",
       "      <td>6.0</td>\n",
       "      <td>6.0</td>\n",
       "      <td>0.0</td>\n",
       "      <td>6.0</td>\n",
       "      <td>9.0</td>\n",
       "      <td>0</td>\n",
       "    </tr>\n",
       "  </tbody>\n",
       "</table>\n",
       "<p>2776 rows × 8 columns</p>\n",
       "</div>"
      ],
      "text/plain": [
       "      Time_spent_Alone  Stage_fear  Social_event_attendance  Going_outside  \\\n",
       "0                  4.0         0.0                      4.0            6.0   \n",
       "1                  9.0         1.0                      0.0            0.0   \n",
       "2                  9.0         1.0                      1.0            2.0   \n",
       "3                  0.0         0.0                      6.0            7.0   \n",
       "4                  3.0         0.0                      9.0            4.0   \n",
       "...                ...         ...                      ...            ...   \n",
       "2895               3.0         0.0                      7.0            6.0   \n",
       "2896               3.0         0.0                      8.0            3.0   \n",
       "2897               4.0         1.0                      1.0            1.0   \n",
       "2898              11.0         1.0                      1.0            3.0   \n",
       "2899               3.0         0.0                      6.0            6.0   \n",
       "\n",
       "      Drained_after_socializing  Friends_circle_size  Post_frequency  \\\n",
       "0                           0.0                 13.0             5.0   \n",
       "1                           1.0                  0.0             3.0   \n",
       "2                           1.0                  5.0             2.0   \n",
       "3                           0.0                 14.0             8.0   \n",
       "4                           0.0                  8.0             5.0   \n",
       "...                         ...                  ...             ...   \n",
       "2895                        0.0                  6.0             6.0   \n",
       "2896                        0.0                 14.0             9.0   \n",
       "2897                        1.0                  4.0             0.0   \n",
       "2898                        1.0                  2.0             0.0   \n",
       "2899                        0.0                  6.0             9.0   \n",
       "\n",
       "      Personality  \n",
       "0               0  \n",
       "1               1  \n",
       "2               1  \n",
       "3               0  \n",
       "4               0  \n",
       "...           ...  \n",
       "2895            0  \n",
       "2896            0  \n",
       "2897            1  \n",
       "2898            1  \n",
       "2899            0  \n",
       "\n",
       "[2776 rows x 8 columns]"
      ]
     },
     "execution_count": 6,
     "metadata": {},
     "output_type": "execute_result"
    }
   ],
   "source": [
    "# Rurning categorical features into numbers\n",
    "\n",
    "df['Personality'] = df['Personality'].map({'Introvert': 1, 'Extrovert': 0})\n",
    "\n",
    "df['Stage_fear'] = df['Stage_fear'].map({'Yes': 1, 'No': 0})\n",
    "\n",
    "df['Drained_after_socializing'] = df['Drained_after_socializing'].map({'Yes': 1, 'No': 0})\n",
    "\n",
    "# Replacing missing values in numerical columns with median\n",
    "numerical_cols = ['Time_spent_Alone', 'Social_event_attendance', 'Going_outside', \n",
    "                 'Friends_circle_size', 'Post_frequency']\n",
    "for col in numerical_cols:\n",
    "    df[col] = df[col].fillna(df[col].median())\n",
    "\n",
    "# For caregorical values since the missing data is <5% we will drop them\n",
    "df = df.dropna(subset=['Stage_fear', 'Drained_after_socializing'])\n",
    "\n",
    "df"
   ]
  },
  {
   "cell_type": "code",
   "execution_count": 7,
   "id": "ba01d9b5-9c3d-4c20-b224-83043a17278e",
   "metadata": {},
   "outputs": [],
   "source": [
    "# splitting data into features/ label\n",
    "X = df.drop('Personality', axis=1)\n",
    "y = df['Personality']\n",
    "\n",
    "# scaing features\n",
    "scaler = StandardScaler()\n",
    "X_scaled = scaler.fit_transform(X)\n",
    "\n",
    "# splitting data into train and test data 80%/20%\n",
    "X_train, X_test, y_train, y_test = train_test_split(X_scaled, y, test_size=0.2)"
   ]
  },
  {
   "cell_type": "markdown",
   "id": "a6e8640f-8450-4fac-8fa0-db1d63025449",
   "metadata": {},
   "source": [
    "# Comparing Classification Models"
   ]
  },
  {
   "cell_type": "markdown",
   "id": "1d5d4a78-9d24-46a6-b8c9-f7ba78b50705",
   "metadata": {},
   "source": [
    "## Linear Discriminant Analysis (LDA)"
   ]
  },
  {
   "cell_type": "code",
   "execution_count": 10,
   "id": "523d25d6-e770-419f-a540-f01bcb3808b5",
   "metadata": {},
   "outputs": [
    {
     "name": "stdout",
     "output_type": "stream",
     "text": [
      "Confusion matrix:\n",
      "\n",
      "[0 1]\n",
      "[[248  21]\n",
      " [ 16 271]]\n",
      "\n",
      "The accuracy is:  0.9334532374100719\n"
     ]
    }
   ],
   "source": [
    "lda = LinearDiscriminantAnalysis()\n",
    "lda.fit(X_train, y_train)\n",
    "preds = lda.predict(X_test)\n",
    "\n",
    "# Confusion Matrix and Accuracy\n",
    "conf = confusion_matrix(y_test, preds, labels=lda.classes_)\n",
    "print('Confusion matrix:\\n')\n",
    "print(lda.classes_)\n",
    "print(conf)\n",
    "\n",
    "acc = accuracy_score(y_test, preds)\n",
    "print('\\nThe accuracy is: ', acc)"
   ]
  },
  {
   "cell_type": "code",
   "execution_count": 11,
   "id": "fe09b354-92c1-46e9-8ffa-7e3b81d5888f",
   "metadata": {},
   "outputs": [
    {
     "data": {
      "text/plain": [
       "(0.928082191780822, 0.9442508710801394, 0.9360967184801382, None)"
      ]
     },
     "execution_count": 11,
     "metadata": {},
     "output_type": "execute_result"
    }
   ],
   "source": [
    "# Precision, Recall, F1\n",
    "precision_recall_fscore_support(y_test, preds, pos_label=1, average='binary') # I considered being introvert as our positive"
   ]
  },
  {
   "cell_type": "markdown",
   "id": "cc994b16-2712-4939-b2a9-2d429c212743",
   "metadata": {},
   "source": [
    "## k-Nearest Neighbours (kNN) for k = 3, 5, 21"
   ]
  },
  {
   "cell_type": "code",
   "execution_count": 13,
   "id": "4a42dc89-84c6-4f8c-ac36-f1474f22ae7a",
   "metadata": {},
   "outputs": [
    {
     "name": "stdout",
     "output_type": "stream",
     "text": [
      "Confusion matrix:\n",
      "\n",
      "[0 1]\n",
      "[[240  29]\n",
      " [ 22 265]]\n",
      "\n",
      "The accuracy is:  0.908273381294964\n"
     ]
    }
   ],
   "source": [
    "# For k = 3\n",
    "knn = KNeighborsClassifier(3)\n",
    "knn.fit(X_train, y_train)\n",
    "knn_preds = knn.predict(X_test)\n",
    "\n",
    "conf = confusion_matrix(y_test, knn_preds, labels=knn.classes_)\n",
    "print('Confusion matrix:\\n')\n",
    "print(knn.classes_)\n",
    "print(conf)\n",
    "\n",
    "acc = accuracy_score(y_test, knn_preds)\n",
    "print('\\nThe accuracy is: ', acc)"
   ]
  },
  {
   "cell_type": "code",
   "execution_count": 14,
   "id": "c0b8d32f-8640-4543-af6e-4f68990eacaa",
   "metadata": {},
   "outputs": [
    {
     "data": {
      "text/plain": [
       "(0.9013605442176871, 0.9233449477351916, 0.9122203098106713, None)"
      ]
     },
     "execution_count": 14,
     "metadata": {},
     "output_type": "execute_result"
    }
   ],
   "source": [
    "precision_recall_fscore_support(y_test, knn_preds, pos_label=1, average='binary') # I considered being introvert as our positive"
   ]
  },
  {
   "cell_type": "code",
   "execution_count": 15,
   "id": "c9ade0a4-6e1c-495e-b01b-591a3dd2a2ca",
   "metadata": {},
   "outputs": [
    {
     "name": "stdout",
     "output_type": "stream",
     "text": [
      "Confusion matrix:\n",
      "\n",
      "[0 1]\n",
      "[[246  23]\n",
      " [ 18 269]]\n",
      "\n",
      "The accuracy is:  0.9262589928057554\n"
     ]
    }
   ],
   "source": [
    "# For k = 5\n",
    "knn = KNeighborsClassifier(5)\n",
    "knn.fit(X_train, y_train)\n",
    "knn_preds = knn.predict(X_test)\n",
    "\n",
    "conf = confusion_matrix(y_test, knn_preds, labels=knn.classes_)\n",
    "print('Confusion matrix:\\n')\n",
    "print(knn.classes_)\n",
    "print(conf)\n",
    "\n",
    "acc = accuracy_score(y_test, knn_preds)\n",
    "print('\\nThe accuracy is: ', acc)"
   ]
  },
  {
   "cell_type": "code",
   "execution_count": 16,
   "id": "bbb26427-d87a-48e8-9d0c-79b3e238e269",
   "metadata": {},
   "outputs": [
    {
     "data": {
      "text/plain": [
       "(0.9212328767123288, 0.9372822299651568, 0.9291882556131261, None)"
      ]
     },
     "execution_count": 16,
     "metadata": {},
     "output_type": "execute_result"
    }
   ],
   "source": [
    "precision_recall_fscore_support(y_test, knn_preds, pos_label=1, average='binary') # I considered being introvert as our positive"
   ]
  },
  {
   "cell_type": "code",
   "execution_count": 64,
   "id": "1d0d695e-9fcc-4dd4-9980-80f66197635e",
   "metadata": {},
   "outputs": [
    {
     "name": "stdout",
     "output_type": "stream",
     "text": [
      "Confusion matrix:\n",
      "\n",
      "[0 1]\n",
      "[[248  21]\n",
      " [ 16 271]]\n",
      "\n",
      "The accuracy is:  0.9334532374100719\n"
     ]
    }
   ],
   "source": [
    "# For k = 21\n",
    "knn = KNeighborsClassifier(21)\n",
    "knn.fit(X_train, y_train)\n",
    "knn_preds = knn.predict(X_test)\n",
    "\n",
    "conf = confusion_matrix(y_test, knn_preds, labels=knn.classes_)\n",
    "print('Confusion matrix:\\n')\n",
    "print(knn.classes_)\n",
    "print(conf)\n",
    "\n",
    "acc = accuracy_score(y_test, knn_preds)\n",
    "print('\\nThe accuracy is: ', acc)"
   ]
  },
  {
   "cell_type": "code",
   "execution_count": 18,
   "id": "5f8cbad7-a78d-40f6-8f23-839293f29c86",
   "metadata": {},
   "outputs": [
    {
     "data": {
      "text/plain": [
       "(0.928082191780822, 0.9442508710801394, 0.9360967184801382, None)"
      ]
     },
     "execution_count": 18,
     "metadata": {},
     "output_type": "execute_result"
    }
   ],
   "source": [
    "precision_recall_fscore_support(y_test, knn_preds, pos_label=1, average='binary') # I considered being introvert as our positive"
   ]
  },
  {
   "cell_type": "markdown",
   "id": "1b98bf1a-592a-4a9f-a2ac-da1961b2e54f",
   "metadata": {},
   "source": [
    "## Logistic Regression"
   ]
  },
  {
   "cell_type": "code",
   "execution_count": 20,
   "id": "a19011af-3665-4684-b3b8-fdca75087ef9",
   "metadata": {},
   "outputs": [
    {
     "name": "stdout",
     "output_type": "stream",
     "text": [
      "Confusion matrix:\n",
      "[0 1]\n",
      "[[248  21]\n",
      " [ 16 271]]\n",
      "\n",
      "The accuracy is: 0.9334532374100719\n"
     ]
    }
   ],
   "source": [
    "logreg = LogisticRegression()\n",
    "logreg.fit(X_train, y_train)\n",
    "logreg_preds = logreg.predict(X_test)\n",
    "\n",
    "conf = confusion_matrix(y_test, logreg_preds, labels=logreg.classes_)\n",
    "print('Confusion matrix:')\n",
    "print(logreg.classes_)\n",
    "print(conf)\n",
    "\n",
    "acc = accuracy_score(y_test, logreg_preds)\n",
    "print('\\nThe accuracy is:', acc)"
   ]
  },
  {
   "cell_type": "code",
   "execution_count": 21,
   "id": "9798df3b-9141-4322-8b46-5b0832132912",
   "metadata": {},
   "outputs": [
    {
     "data": {
      "text/plain": [
       "(0.928082191780822, 0.9442508710801394, 0.9360967184801382, None)"
      ]
     },
     "execution_count": 21,
     "metadata": {},
     "output_type": "execute_result"
    }
   ],
   "source": [
    "precision_recall_fscore_support(y_test, logreg_preds, pos_label=1, average='binary') # I considered being introvert as our positive"
   ]
  },
  {
   "cell_type": "markdown",
   "id": "8b3a16eb-01fa-4f82-ab61-0f4cd599e7d6",
   "metadata": {},
   "source": [
    "## Logistic Regression (probabilistic predictions)"
   ]
  },
  {
   "cell_type": "code",
   "execution_count": 23,
   "id": "e335ef6d-1669-4206-bb8b-05cd191a93ff",
   "metadata": {},
   "outputs": [],
   "source": [
    "# function that classifies preds based on threshold\n",
    "\n",
    "def classify(preds, threshold, newpreds):\n",
    "    for p in preds:\n",
    "        if p[0] > threshold:\n",
    "            newpreds.append(classes[0])\n",
    "        else:\n",
    "            newpreds.append(classes[1])"
   ]
  },
  {
   "cell_type": "code",
   "execution_count": 24,
   "id": "dc283e0f-59b6-4e3f-bc03-4fc10fd81738",
   "metadata": {},
   "outputs": [],
   "source": [
    "preds = logreg.predict_proba(X_test)\n",
    "classes = logreg.classes_"
   ]
  },
  {
   "cell_type": "code",
   "execution_count": 25,
   "id": "b1b12f57-2ac4-45c1-8c72-26a79ae9b981",
   "metadata": {},
   "outputs": [
    {
     "name": "stdout",
     "output_type": "stream",
     "text": [
      "[0 1]\n",
      "[[248  21]\n",
      " [ 16 271]]\n",
      "accuracy is:  0.9334532374100719\n"
     ]
    }
   ],
   "source": [
    "# for threshold = 0.45\n",
    "\n",
    "newpreds = []\n",
    "classify(preds, 0.45, newpreds)\n",
    "\n",
    "print(logreg.classes_)        \n",
    "conf = confusion_matrix(y_test, newpreds)\n",
    "print(conf)\n",
    "\n",
    "acc = accuracy_score(y_test, newpreds)\n",
    "print('accuracy is: ', acc)"
   ]
  },
  {
   "cell_type": "code",
   "execution_count": 26,
   "id": "8c408d79-bd0b-4114-b40e-3ff8d90bc304",
   "metadata": {},
   "outputs": [
    {
     "data": {
      "text/plain": [
       "(0.928082191780822, 0.9442508710801394, 0.9360967184801382, None)"
      ]
     },
     "execution_count": 26,
     "metadata": {},
     "output_type": "execute_result"
    }
   ],
   "source": [
    "precision_recall_fscore_support(y_test, newpreds, pos_label=1, average='binary')"
   ]
  },
  {
   "cell_type": "code",
   "execution_count": 27,
   "id": "4d24e4a2-e18d-41c6-8253-156848e39a99",
   "metadata": {},
   "outputs": [
    {
     "name": "stdout",
     "output_type": "stream",
     "text": [
      "[0 1]\n",
      "[[248  21]\n",
      " [ 16 271]]\n",
      "accuracy is:  0.9334532374100719\n"
     ]
    }
   ],
   "source": [
    "# for threshold = 0.55\n",
    "\n",
    "newpreds = []\n",
    "classify(preds, 0.55, newpreds)\n",
    "\n",
    "print(logreg.classes_)        \n",
    "conf = confusion_matrix(y_test, newpreds)\n",
    "print(conf)\n",
    "\n",
    "acc = accuracy_score(y_test, newpreds)\n",
    "print('accuracy is: ', acc)"
   ]
  },
  {
   "cell_type": "code",
   "execution_count": 28,
   "id": "46000534-c6a5-4a02-840d-b7b6e8123daa",
   "metadata": {},
   "outputs": [
    {
     "data": {
      "text/plain": [
       "(0.928082191780822, 0.9442508710801394, 0.9360967184801382, None)"
      ]
     },
     "execution_count": 28,
     "metadata": {},
     "output_type": "execute_result"
    }
   ],
   "source": [
    "precision_recall_fscore_support(y_test, newpreds, pos_label=1, average='binary')"
   ]
  },
  {
   "cell_type": "code",
   "execution_count": 29,
   "id": "689231c8-ce8c-4688-9247-95a2f9ad7c7d",
   "metadata": {},
   "outputs": [
    {
     "name": "stdout",
     "output_type": "stream",
     "text": [
      "[0 1]\n",
      "[[260   9]\n",
      " [ 92 195]]\n",
      "accuracy is:  0.8183453237410072\n"
     ]
    }
   ],
   "source": [
    "# for threshold = 0.1\n",
    "\n",
    "newpreds = []\n",
    "classify(preds, 0.1, newpreds)\n",
    "\n",
    "print(logreg.classes_)        \n",
    "conf = confusion_matrix(y_test, newpreds)\n",
    "print(conf)\n",
    "\n",
    "acc = accuracy_score(y_test, newpreds)\n",
    "print('accuracy is: ', acc)"
   ]
  },
  {
   "cell_type": "code",
   "execution_count": 30,
   "id": "af572641-ec59-41a4-9f4d-291f3e638d95",
   "metadata": {},
   "outputs": [
    {
     "data": {
      "text/plain": [
       "(0.9558823529411765, 0.6794425087108014, 0.7942973523421588, None)"
      ]
     },
     "execution_count": 30,
     "metadata": {},
     "output_type": "execute_result"
    }
   ],
   "source": [
    "precision_recall_fscore_support(y_test, newpreds, pos_label=1, average='binary')"
   ]
  },
  {
   "cell_type": "markdown",
   "id": "68a89691-ae5a-4e5b-ab53-bf455d599ee5",
   "metadata": {},
   "source": [
    "## Support Vector Machines (SVM)"
   ]
  },
  {
   "cell_type": "code",
   "execution_count": 32,
   "id": "289ced49-a9ae-4b7b-8dfd-7718d41b3a96",
   "metadata": {},
   "outputs": [
    {
     "name": "stdout",
     "output_type": "stream",
     "text": [
      "[0 1]\n",
      "[[248  21]\n",
      " [ 16 271]]\n",
      "accuracy is:  0.9334532374100719\n"
     ]
    }
   ],
   "source": [
    "svm = SVC()\n",
    "svm.fit(X_train, y_train)\n",
    "svm_preds = svm.predict(X_test)\n",
    "\n",
    "print(svm.classes_)        \n",
    "conf = confusion_matrix(y_test, svm_preds)\n",
    "print(conf)\n",
    "\n",
    "acc = accuracy_score(y_test, svm_preds)\n",
    "print('accuracy is: ', acc)"
   ]
  },
  {
   "cell_type": "code",
   "execution_count": 33,
   "id": "797639f8-54f1-4d8d-8c85-6f5e22168ef7",
   "metadata": {},
   "outputs": [
    {
     "data": {
      "text/plain": [
       "(0.928082191780822, 0.9442508710801394, 0.9360967184801382, None)"
      ]
     },
     "execution_count": 33,
     "metadata": {},
     "output_type": "execute_result"
    }
   ],
   "source": [
    "precision_recall_fscore_support(y_test, svm_preds, pos_label=1, average='binary')"
   ]
  },
  {
   "cell_type": "markdown",
   "id": "422e1bf8-2080-4ec9-b2c8-0223b6a83c9c",
   "metadata": {},
   "source": [
    "# Let's predict someone's type of personality"
   ]
  },
  {
   "cell_type": "code",
   "execution_count": 35,
   "id": "62ec061d-2047-49a6-9f0a-226588178a45",
   "metadata": {},
   "outputs": [
    {
     "name": "stdout",
     "output_type": "stream",
     "text": [
      "Predicted Personality: Extrovert\n"
     ]
    },
    {
     "name": "stderr",
     "output_type": "stream",
     "text": [
      "C:\\Users\\cy_wa\\anaconda3\\Lib\\site-packages\\sklearn\\base.py:493: UserWarning: X does not have valid feature names, but StandardScaler was fitted with feature names\n",
      "  warnings.warn(\n"
     ]
    }
   ],
   "source": [
    "input_data = [[12, 0, 6, 5, 1, 4, 0]]  \n",
    "input_data_scaled = scaler.transform(input_data) \n",
    "\n",
    "prediction = logreg.predict(input_data_scaled)[0]\n",
    "print(\"Predicted Personality:\", \"Introvert\" if prediction == 1 else \"Extrovert\")"
   ]
  },
  {
   "cell_type": "code",
   "execution_count": null,
   "id": "4d0afd4a-e9bf-42ca-9e7b-0da9837bab25",
   "metadata": {},
   "outputs": [],
   "source": []
  }
 ],
 "metadata": {
  "kernelspec": {
   "display_name": "Python 3 (ipykernel)",
   "language": "python",
   "name": "python3"
  },
  "language_info": {
   "codemirror_mode": {
    "name": "ipython",
    "version": 3
   },
   "file_extension": ".py",
   "mimetype": "text/x-python",
   "name": "python",
   "nbconvert_exporter": "python",
   "pygments_lexer": "ipython3",
   "version": "3.12.4"
  }
 },
 "nbformat": 4,
 "nbformat_minor": 5
}
